























import pandas as pd # импортируем Pandas





workouts = pd.read_csv('workouts.csv', parse_dates=['start_at']) 

users = pd.read_excel('users.xlsx') # подключимся к данным по клиентам





workouts.info()


workouts_users =  pd.merge(workouts, 
                           users, 
                           how='left',                      
                           left_on='client_id', 
                           right_on='user_id')


workouts_users


payments = pd.read_excel('payments.xlsx') # подключимся к данным по оплатам

marketing = pd.read_excel('marketing.xlsx') # подключимся к данным маркетинга


payments





import matplotlib.pyplot as plt # Библиотека для визуализации данных

# чтобы графики отображались внутри jupyter
get_ipython().run_line_magic("matplotlib", " inline ")























marketing.head(3)





# переводим даты в нужный формат
payments['payment_datetime'] = pd.to_datetime(payments.payment_date) 

# объединим платежи и данные о географии клиентов
payments_with_geo = pd.merge(payments, 
                             users[['user_id','geo_group']], 
                             on='user_id') 





# вычисляем даты первых оплат для каждого клиента
fst_payment = payments_with_geo.groupby(['user_id', 'geo_group'])['payment_date'].min() 

# сбрасываем индекс
fst_payment = fst_payment.reset_index() 

# считаем количество первых оплат в каждом месяце и гео-группе
fst_payment_month = fst_payment.groupby([fst_payment['payment_date'].dt.month,
                                         fst_payment['geo_group']])['user_id'].count().reset_index() 


fst_payment_month.head(3)





# переименовали с помощью метода .columns

fst_payment_month.columns = ['month', 'geo_group', 'sales'] 


fst_payment_month.head(3)





marketing_sales = pd.merge(fst_payment_month, 
                           marketing, 
                           on=['geo_group','month'])
marketing_sales.head()





marketing_sales_total = marketing_sales.groupby('month')[['sales','budget']].sum().reset_index()

marketing_sales_total.head()





plt.figure(figsize=(7, 7))  


plt.title('Зависимость количества привлеченных клиентов от затрат на маркетинг (помесячно)') 
plt.xlabel('Затраты на маркетинг, р') 
plt.ylabel('Первых покупок') 

plt.grid() 

# передали 3 аргумента
plt.scatter(
        marketing_sales_total['budget'], 
        marketing_sales_total['sales'], 
        alpha = 0.7 
)

plt.show() 











# передадим аргументы функции
plt.scatter(
    marketing_sales_total['budget'], # ось X, затраты на маркетинг
    marketing_sales_total['sales'] # ось Y, количество продаж
)

plt.show() # вывели график





plt.grid() # нарисовали сетку на графике

plt.scatter(
    marketing_sales_total.budget, # ось X, затраты на маркетинг
    marketing_sales_total.sales # ось Y, количество продаж
)

plt.show() # вывели график






help(plt.show)





plt.title('Зависимость количества привлеченных клиентов от затрат на маркетинг (помесячно)') 
plt.xlabel('Затраты на маркетинг') 
plt.ylabel('Первых покупок') 


plt.grid() # сетка
plt.scatter(
    marketing_sales_total.budget, # ось X
    marketing_sales_total.sales # ось Y
)

plt.show() # вывели график





plt.title('Зависимость количества привлеченных клиентов от затрат на маркетинг (помесячно)') 
plt.xlabel('Затраты на маркетинг') 
plt.ylabel('Первых покупок') 


plt.grid() # сетка
plt.scatter(
    marketing_sales_total.budget, # ось X
    marketing_sales_total.sales, # ось Y
    alpha = 0.7 # прозрачность 30%
)

plt.show() # вывели график





plt.figure(figsize=(8, 8))  # зададим размер графика шириной 8, высотой 8


plt.title('Зависимость количества привлеченных клиентов от затрат на маркетинг (помесячно)') 
plt.xlabel('Затраты на маркетинг') 
plt.ylabel('Первых покупок') 

plt.grid() 

# добавили 3-й аргумент
plt.scatter(
    marketing_sales_total.budget, # ось X
    marketing_sales_total.sales, # ось Y
    alpha = 0.7 # прозрачность 30%
)

plt.show() # вывели график 














geo_groups = set(marketing_sales['geo_group'])
geo_groups








# зададим цвет для каждой группы

colors = {'Москва':'c', 
          'Регионы РФ':'tab:olive', 
          'СНГ':'r', 
          'Без страны':'k'} 





marketing_sales['geo_group'].map(colors).head(10)





plt.figure(figsize=(7, 7))  # Зададим размер фигуры


plt.title('Зависимость количества привлеченных клиентов от затрат на маркетинг (помесячно)') 
plt.xlabel('Затраты на маркетинг') 
plt.ylabel('Первых покупок') 
plt.grid() # сетка

scatter = plt.scatter(
    marketing_sales.budget, # ось OX 
    marketing_sales.sales, # ось OY
    
    c = marketing_sales['geo_group'].map(colors),  # задаем цвета точек как четвертое измерение
    alpha = 0.5 # Прозрачность 50%
)





plt.figure(figsize=(7, 7))  # зададим размер фигуры

# зададим масштаб осей
plt.xlim(-10_000, 1_000_000) # минусовое значение, чтобы не отрезать 0
plt.ylim(0, 250)

plt.title('Зависимость количества привлеченных клиентов от затрат на маркетинг (помесячно)') 
plt.xlabel('Затраты на маркетинг, млн р') 
plt.ylabel('Первых покупок') 

plt.grid() # сетка

scatter = plt.scatter(
    marketing_sales.budget, # ось X 
    marketing_sales.sales, # ось Y
    c = marketing_sales['geo_group'].map(colors), # задаем цвета точек как четвертое измерение
    alpha = 0.5 # прозрачность 50%
)









plt.figure(figsize=(10, 5))  # Зададим размер фигуры
# зададим масштаб осей
plt.xlim(-100,500)
plt.ylim(-100,500)

scatter = plt.scatter(    
    users.workouts_total, # ось OX 
    users.workouts_successful, # ось OY
    c = users['geo_group'].map(colors), # задаем цвета точек
    s = users['age'], # задаем размер точек в соответсвии с возрастом пользователя
    marker = '*'# вид точки
)




















# записываем новый датасет с количеством тренировок по неделям
workouts_byweek = workouts.resample('W', on='start_at')['workout_id'].count() 

#выведем первые 10 элементов
workouts_byweek.head(10)





plt.figure(figsize=(10, 5)) # размерность
plt.title('Распределение количества тренировок по неделям') 
plt.xlabel('Дата') 
plt.ylabel('Количество тренировок') 
plt.grid() # сетка

#передаем в функцию 1 аргумент, поэтому по оси X - будет индекс - это дата

plt.plot(workouts_byweek) #количество тренировок в каждую неделю 
plt.show()





workouts_byweek.iloc[0] # берем первый элемент






workouts_byweek.tail()


workouts_byweek.iloc[:-1].tail() # берем все элементы, кроме последнего





plt.figure(figsize=(10, 5))  
plt.title('Распределение количества тренировок по неделям') 
plt.xlabel('Дата') 
plt.ylabel('Количество тренировок') 
plt.grid() 
 
plt.plot(workouts_byweek.iloc[:-1],linewidth=4) #linewidth - это толщина линии 
plt.show()








def get_season(date):
    month = date.month # вытащим номер месяца из даты 
   
    if month in (3,4,5): 
        return 'Весна'
    elif month in (6,7,8):
        return 'Лето'
    elif month in (9,10,11):
        return 'Осень'
    else:         # остальные месяцы - месяцы зимы
        return 'Зима'





print('Дата', workouts_byweek.index[0]) # берем первую дату из нашей таблицы
print('Сезон', get_season(workouts_byweek.index[0])) # выводим результат работы функции





workouts_byweek_seasons = workouts_byweek.reset_index().iloc[:-1] # берем строки кроме последней





workouts_byweek_seasons['season'] = workouts_byweek_seasons['start_at'].apply(get_season)






workouts_byweek_seasons.head()





colors_seasons = {'Зима':'b',
                  'Осень':'r', 
                  'Лето':'g', 
                  'Весна':'y'} # зададим цвет для каждого сезона





plt.figure(figsize=(10, 5))  
plt.title('Распределение количества тренировок по неделям') 
plt.xlabel('Дата') 
plt.ylabel('Количество тренировок') 
plt.grid() 

#передаем в функцию 2 аргумента, по оси X о дата, а по оси Y - количество тренировок 
plt.plot(workouts_byweek_seasons['start_at'],
         workouts_byweek_seasons['workout_id'],
         linewidth=1) #linewidth - это толщина линии 

#Используем заданные цвета для отрисовки точек на графике
plt.scatter(
    workouts_byweek_seasons.start_at, # ось OX 
    workouts_byweek_seasons.workout_id, # ось OY
    c = workouts_byweek_seasons['season'].map(colors_seasons) # задаем цвета точек
)


plt.show()








workouts_bymin = workouts.resample('min', on='start_at').workout_id.count() 
plt.figure(figsize=(10, 5))  
plt.plot(workouts_bymin)

plt.show()














# отбираем только интересующие нас тренировки
client_week_workouts = workouts[(workouts.status=='success')&
                                (workouts.workout_schedule_type!='trial')]





client_id = workouts['client_id']
weeks = workouts['start_at'].dt.isocalendar().week

client_week_workouts = client_week_workouts.groupby([client_id, weeks])['workout_id'].count().reset_index()





avg_workouts_per_week = client_week_workouts.groupby('client_id')['workout_id'].mean()


avg_workouts_per_week.head()





plt.figure(figsize=(10, 5)) # размерность
plt.title('Распределение среднего недельного количества тренировок') 
plt.xlabel('Количество тренировок в неделю') 
plt.ylabel('Количество клиентов') 
plt.grid() # сетка
#отрисовываем гистограмму
plt.hist(avg_workouts_per_week, bins=50) #50 - количество бинов

plt.show()





plt.figure(figsize=(10, 5)) # размерность
plt.title('Распределение среднего недельного количества тренировок') 
plt.xlabel('Количество тренировок в неделю') 
plt.ylabel('Количество клиентов')

plt.xlim((1, 3)) 

plt.grid() # сетка
#отрисовываем гистограмму
plt.hist(avg_workouts_per_week, bins=50) #50 - количество бинов

plt.show()














plt.figure(figsize=(10, 5))  # размерность
plt.title('Распределение среднего недельного количества тренировок') # заголовок 
plt.xlabel('Количество тренировок в неделю') # ось X
plt.ylabel('Количество клиентов') # ось Y
plt.grid() # сетка

plt.hist(avg_workouts_per_week, 
         bins=50) # гистограмма

plt.xlim((1, 3)) 

#отрисовываем среднее пунктирной черной линией толщиной 2
plt.axvline(avg_workouts_per_week.mean(), 
            color='k', 
            linestyle='--', 
            linewidth=2, 
            label = 'среднее')

#отрисовываем медиану красной линией толщиной 2
plt.axvline(avg_workouts_per_week.median(), 
            color='r', 
            linestyle='-', 
            linewidth=2, 
            label = 'медиана')
plt.legend()
plt.show() # вывели график





plt.hist(avg_workouts_per_week,
         bins=1000)

plt.show()





import seaborn as sns # библиотека seaborn























revenue_per_month = payments.resample('M', on='payment_date')['amount'].sum() / 1_000_000 # в миллионах 
revenue_per_week = payments.resample('W', on='payment_date')['amount'].sum() / 1_000_000 # в миллионах
revenue_per_day = payments.resample('D', on='payment_date')['amount'].sum() / 1_000 # в тысячах





plt.figure(figsize=(10, 5))  # Зададим размер фигуры
plt.title('Распределение выручки по дням') # Подпишем заголовок графика
plt.grid() # сетка
#отрисовываем ящик с усами
sns.boxplot(x=revenue_per_day, 
            color='c')
plt.xlabel('Выручка по дням (тыс.рублей)') # Подпишем ось X (в seaborn - после построения графика)
plt.show()





revenue_per_day.loc[revenue_per_day>600]








plt.figure(figsize = (5, 10))  # Зададим размер фигуры
plt.title('Распределение выручки по неделям') # Подпишем заголовок графика
plt.grid() # Добавим сетку
#отрисовываем ящик с усами
sns.boxplot(y = revenue_per_week, 
            color='m')
plt.ylabel('Выручка в неделю (млн.рублей)') # Подпишем ось Y
plt.show()





revenue_per_week.loc[revenue_per_week<1]








revenue_byday_month = payments.groupby([payments['payment_date'].dt.day,
                                        payments['payment_date'].dt.month])['amount'].sum()
revenue_byday_month.index.names = ['day','month'] # группировка создает мультииндекс.






revenue_byday_month = revenue_byday_month.reset_index() 
revenue_byday_month.head()





plt.figure(figsize=(10, 5))  # Зададим размер фигуры
plt.title('Распределение количества тренировок по неделям') # Подпишем заголовок графика
plt.grid() # Добавим сетку
#отрисовываем график
sns.boxplot(x='month',
            y='amount',
            data=revenue_byday_month, 
            color='y')
plt.ylabel('Выручка в день') # Подпишем ось Y
plt.xlabel('Месяц') # Подпишем ось Y
plt.show()











workouts['hour'] =  workouts['start_at'].dt.hour
workouts['dayofweek'] = workouts['start_at'].dt.dayofweek





workouts_hourday = workouts.groupby(['hour', 'dayofweek']).workout_id.count()

workouts_hourday = workouts_hourday.reset_index() # убираем колонки группировки из индекса





workouts_hourday.head()





heat_weekdhour = workouts_hourday.pivot(index="dayofweek", 
                                        columns="hour", 
                                        values="workout_id")





heat_weekdhour.fillna(0, inplace=True)


heat_weekdhour # посмотрим что получилось





heat_weekdhour.index = [
    'Понедельник',
    'Вторник',
    'Среда',
    'Четверг',
    'Пятница',
    'Суббота',
    'Воскресение']





plt.figure(figsize=(20,8))
sns.heatmap(heat_weekdhour, 
            annot=True, 
            cmap="YlGnBu", 
            fmt='g')
plt.title("Нагрузка по часам и дням недели")
plt.ylabel("День недели")
plt.xlabel("Час")
plt.show()








unique_workout_type = set(workouts['workout_type'])


for workout_type in unique_workout_type:
    to_plot = workouts.loc[workouts['workout_type'] == workout_type]
    to_plot = to_plot.resample('W', on='start_at').workout_id.count()
    plt.figure(figsize=(15,3))
    plt.plot(to_plot, linewidth=2)
    plt.grid()
    plt.title("Число тренировок типа {} по неделям".format(workout_type))
    plt.xlabel("Количество проведенных тренировок")
    plt.show()









