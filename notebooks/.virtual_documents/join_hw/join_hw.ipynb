








import pandas as pd

move = pd.read_excel('move.xlsx')
move.head(10)


product = pd.read_excel('product.xlsx')
product.head(10)


shop = pd.read_excel('shop.xlsx')
shop.head(10)



