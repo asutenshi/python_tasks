{
 "cells": [
  {
   "cell_type": "markdown",
   "metadata": {
    "id": "2KyV7wJNo2sW"
   },
   "source": [
    "\n",
    "# Получение данных через API \n",
    "  \n"
   ]
  },
  {
   "cell_type": "markdown",
   "metadata": {
    "id": "SeCMasJpo2sf"
   },
   "source": [
    "# Зачем нужны API"
   ]
  },
  {
   "cell_type": "markdown",
   "metadata": {
    "id": "d81lxZcoo2sg"
   },
   "source": [
    "`API` для аналитика это инструмент связи с данными, которые находятся внутри сторонних сайтов. Через API мы передаем команды-запросы, а взамен получаем ответ. Все API разные, но есть общие подходы\n",
    "\n",
    "- у большинства API есть адрес, по которому нужно отправить запрос\n",
    "- в документации указаны определенные требования к структуре запроса\n",
    "\n",
    "### Почему нельзя просто парсить сайты?\n",
    "\n",
    "Вообще-то можно, но если вы напишете робота, который прорывается через визуальный интерфейс и создает лишнюю нагрузку на сайт, то вас просто забанят.\n",
    "\n",
    "`Визуальный интерфейс` сайтов для пользователей — он нагружен разнообразными стилями и картинками, похоже на парадный вход с красивым и внимательным консьержем, который физически не успеет обслужить роботизированный поток из тысяч запросов. \n",
    "\n",
    "`API` —  интерфейс для программ — как служебный вход, который снимает лишнюю нагрузку с парадного, созданного для пользователей, он не такой красивый, зато шире.\n",
    "\n",
    "Хотя и этот служебный вход не резиновый и API прописывают `ограничения` запросов, которые можно создавать. Часто, например, владельцы API просят нас ограничить частоту обращений к сервису или объем получаемых данных.\n",
    "\n",
    "### Открытые и закрытые API\n",
    "\n",
    "`Открытые` — общедоступные (например, API Мирового банка). [Список публичных API](https://github.com/public-apis/public-apis)\n",
    "\n",
    "`Закрытые` — требующие разнообразных процедур авторизации (например, API Google Drive). \n",
    "\n",
    "### Что можно получить от API сайтов?\n",
    "\n",
    "Чаще всего возвращают данные в формате `json`, с которым мы и будем работать, или реже `xml`. \n",
    "\n",
    "\n"
   ]
  },
  {
   "cell_type": "markdown",
   "metadata": {
    "id": "jF1C5hrio2sh"
   },
   "source": [
    "## JSON\n",
    "\n",
    "`JSON` — текстовый формат данных из `JavaScript`, но многие среды программирования имеют возможность читать и генерировать JSON, в том числе Python.\n",
    "\n",
    "Работая с модулем `requests`, мы будем использовать метод `json()`, который преобразует ответ в объект класса `dict`. \n",
    "\n",
    "Подробнее: https://python-scripts.com/json"
   ]
  },
  {
   "cell_type": "markdown",
   "metadata": {
    "id": "g64p-luIo2sh"
   },
   "source": [
    "___\n",
    "\n",
    "## Открытые API\n",
    "\n",
    "### Задача 1 \n",
    "\n",
    "Получаем время восхода и заката по координатам\n",
    "\n",
    "#### Как это сделать?\n",
    "\n",
    "1. Изучить документацию API сайта `https://sunrise-sunset.org/`\n",
    "2. Получить координаты города в нужном формате\n",
    "3. Отправить запрос сайту `https://sunrise-sunset.org/`, на котором есть нужные нам данные\n",
    "4. Получить ответ "
   ]
  },
  {
   "cell_type": "markdown",
   "metadata": {
    "id": "lsOJrP9oo2si"
   },
   "source": [
    "__Идем на сайт, ищем страницу с документацией `API` [`https://sunrise-sunset.org/`](https://sunrise-sunset.org/) и находим ответы на главные вопросы__\n",
    "\n",
    "1. Какие параметры, то есть данные, мы можем получить через этот API\n",
    "2. В каком формате этот API принимает запрос\n",
    "3. В каком формате возвращается ответ"
   ]
  },
  {
   "cell_type": "markdown",
   "metadata": {
    "id": "JgPRlTGvo2si"
   },
   "source": [
    "__Мы поняли, что на вход нам понадобятся:__\n",
    "\n",
    "1. две координаты в формате `float`\n",
    "2. дата, данные за которую мы хотим получить"
   ]
  },
  {
   "cell_type": "markdown",
   "metadata": {
    "id": "81A6_KWHo2sj"
   },
   "source": [
    "### 1. Получим координаты\n",
    "Библиотека `geocoder` поможет нам получить координаты по географическому названию."
   ]
  },
  {
   "cell_type": "code",
   "execution_count": null,
   "metadata": {
    "id": "zw0nLYoOo2sk",
    "scrolled": true
   },
   "outputs": [],
   "source": [
    "#!pip install geocoder\n",
    "\n",
    "import sys\n",
    "!{sys.executable} -m pip install geocoder \n"
   ]
  },
  {
   "cell_type": "code",
   "execution_count": null,
   "metadata": {
    "id": "cJ3iealYo2sm",
    "scrolled": true
   },
   "outputs": [],
   "source": [
    "import geocoder"
   ]
  },
  {
   "cell_type": "markdown",
   "metadata": {
    "id": "IgZMbBY4o2sm"
   },
   "source": [
    "Из нее возьмем функцию `.arcgis()`, которая возвращает всю информацию о переданном географическом названии."
   ]
  },
  {
   "cell_type": "code",
   "execution_count": null,
   "metadata": {
    "id": "kvGkmNnOo2sn",
    "scrolled": true
   },
   "outputs": [],
   "source": [
    "city = geocoder.arcgis('Иркутск')\n",
    "print(city.json)"
   ]
  },
  {
   "cell_type": "markdown",
   "metadata": {
    "id": "13XQZOJzo2sn"
   },
   "source": [
    "Широта — это `lat`, долгота — `lng`.\n",
    "\n",
    "Создадим список, в который положим наши широту и долготу. Но вообще, мы можем сохранить их в любом удобном формате."
   ]
  },
  {
   "cell_type": "code",
   "execution_count": null,
   "metadata": {
    "id": "HeE_XQovo2sn",
    "scrolled": true
   },
   "outputs": [],
   "source": [
    "crdnt = [city.json['lat'], city.json['lng']]\n",
    "print(crdnt)"
   ]
  },
  {
   "cell_type": "code",
   "execution_count": null,
   "metadata": {},
   "outputs": [],
   "source": [
    "crdnt=[52.2978, 104.296] # данные из другого источника"
   ]
  },
  {
   "cell_type": "markdown",
   "metadata": {
    "id": "Or2v-_hDo2so"
   },
   "source": [
    "### 2. Создадим запрос "
   ]
  },
  {
   "cell_type": "markdown",
   "metadata": {
    "id": "2DxusPEIo2so"
   },
   "source": [
    "`requests` — библиотека инструментов для обмена информацией по интернету. С ее помощью можно легко и быстро подключаться к сайтам, забирать оттуда информацию, отправлять туда какую-то информацию (например, логин и пароль для авторизации). В работе аналитика эта библиотека чаще всего используется для получения данных из сети.\n",
    "\n",
    "Для этого используется функция `get()`, которая получает на вход URL API и параметры запроса в формате словаря\n",
    "\n",
    "Снова идем в документацию: https://sunrise-sunset.org/api, чтобы \n",
    "\n",
    "1. вспомнить, через какую ссылку мы обращаемся к нему\n",
    "2. вспомнить имена параметров"
   ]
  },
  {
   "cell_type": "code",
   "execution_count": null,
   "metadata": {
    "id": "I9UUqsgao2so",
    "scrolled": true
   },
   "outputs": [],
   "source": [
    "import requests # входит в стандартную библиотеку pyton"
   ]
  },
  {
   "cell_type": "code",
   "execution_count": null,
   "metadata": {
    "id": "7hCsEjI5o2so"
   },
   "outputs": [],
   "source": [
    "URL = 'https://api.sunrise-sunset.org/json'\n",
    "params = {\n",
    "    'lat': crdnt[0], # берем первый элемент из списка\n",
    "    'lng': crdnt[1], # берем второй элемент из списка\n",
    "    'date': '2025-02-14' # дата в формате строки (работа с API - формирование строк!)\n",
    "}\n",
    "\n",
    "sun_r_s = requests.get(URL, params=params) # requests за нас формирует конечный URL из параметров\n",
    "\n",
    "sun_r_s"
   ]
  },
  {
   "cell_type": "markdown",
   "metadata": {
    "id": "-kCQvg2Io2sp"
   },
   "source": [
    "`<Response [200]>` - означает, что все верно. \n",
    "\n",
    "Чтобы посмотреть, что внутри ответа, используем метод `.content` "
   ]
  },
  {
   "cell_type": "code",
   "execution_count": null,
   "metadata": {
    "id": "_Xx4d5Gao2sp",
    "scrolled": true
   },
   "outputs": [],
   "source": [
    "sun_r_s.content"
   ]
  },
  {
   "cell_type": "markdown",
   "metadata": {
    "id": "gT-r3fGIo2sp"
   },
   "source": [
    "Мы получили строку в формате `JSON`. Ее можно преобразовать в словарь методом `.json` и после этого обращаться к различным полям."
   ]
  },
  {
   "cell_type": "code",
   "execution_count": null,
   "metadata": {
    "id": "nvwL0gvuo2sp",
    "scrolled": true
   },
   "outputs": [],
   "source": [
    "sun_r_s_dict = sun_r_s.json()\n",
    "sun_r_s_dict"
   ]
  },
  {
   "cell_type": "code",
   "execution_count": null,
   "metadata": {},
   "outputs": [],
   "source": [
    "type(sun_r_s_dict)"
   ]
  },
  {
   "cell_type": "markdown",
   "metadata": {
    "id": "qLE7YiT5o2sq"
   },
   "source": [
    "Например, получим продолжительность дня, обратившись к значению внутреннего словаря по ключу `'day_length'`"
   ]
  },
  {
   "cell_type": "code",
   "execution_count": null,
   "metadata": {
    "id": "Y-ZIvCQ3o2sq",
    "scrolled": true
   },
   "outputs": [],
   "source": [
    "sun_r_s_dict['results']['day_length']"
   ]
  },
  {
   "cell_type": "markdown",
   "metadata": {
    "id": "ux_qzuFto2sq"
   },
   "source": [
    "Если нужно, преобразуем ответ в датафрейм, передав методу `pd.DataFrame` внутренний словарь"
   ]
  },
  {
   "cell_type": "code",
   "execution_count": null,
   "metadata": {
    "id": "Jso5EFbIo2sq",
    "outputId": "d8055f27-5c82-4c2d-d5f9-c263874a68a6",
    "scrolled": true
   },
   "outputs": [],
   "source": [
    "import pandas as pd\n",
    "\n",
    "pd.DataFrame([sun_r_s.json()['results']])"
   ]
  },
  {
   "cell_type": "markdown",
   "metadata": {
    "id": "AvL3cULHo2sr"
   },
   "source": [
    "___\n",
    "\n",
    "## API World Bank"
   ]
  },
  {
   "cell_type": "markdown",
   "metadata": {
    "id": "A3Sb1QPko2sr"
   },
   "source": [
    "Рассмотрим работу с `API Мирового Банка`. Там мы найдем гигабайты данных, описывающих разные экономические и социальные показатели сотен стран. \n",
    "\n",
    "Это тоже открытый API. Перейдем на сайт [документации](https://datahelpdesk.worldbank.org/knowledgebase/topics/125589) к нему. Документация гораздо больше и сложнее. Разберемся, как она устроена."
   ]
  },
  {
   "cell_type": "markdown",
   "metadata": {
    "id": "a063SkeHo2sr"
   },
   "source": [
    "### Best Practices"
   ]
  },
  {
   "cell_type": "markdown",
   "metadata": {
    "id": "_H85qtBUo2sr"
   },
   "source": [
    "Тут перечислены разделы с информацией о том, как следует пользоваться API. Первым делом идем в раздел [Development Best Practices](https://datahelpdesk.worldbank.org/knowledgebase/articles/902064-development-best-practices). Тут собраны рекомендации по использованию API и ограничения. Хороший тон — соблюдать их. Несоблюдение таких рекомендаций может привести к поломке сервиса и бану вашего IP.\n",
    "\n",
    "__Две главные рекомендации:__\n",
    "1. Кэшировать информацию — сохранять результаты предыдущих запросов, чтобы не ходить в API без необходимости несколько раз.\n",
    "2. Не делать повторных запросов при задержке ответа. Если при задержке ответа в связи с загрузкой сервера запрашивать сервис еще и еще, это приведет только к еще большей нагрузке на сервер."
   ]
  },
  {
   "cell_type": "markdown",
   "metadata": {
    "id": "8xwes2qzo2sr"
   },
   "source": [
    "### Описание интерфейса"
   ]
  },
  {
   "cell_type": "markdown",
   "metadata": {
    "id": "tcZ0oWrYo2ss"
   },
   "source": [
    "Далее рассмотрим, какие ошибки может выдавать API, чтобы понимать, как их обрабатывать."
   ]
  },
  {
   "cell_type": "markdown",
   "metadata": {
    "id": "Kf0w3u_co2ss"
   },
   "source": [
    "<table><tbody><tr><th class=\"wysiwyg-tmp-selected-cell\">Error Code</th><th>Response Code</th><th>Description</th></tr><tr><td>105</td><td>503 'Service currently unavailable'</td><td>'The requested service is temporarily unavailable.'</td></tr><tr><td>110</td><td>404 'API Version \"XXX\" not found.'</td><td>'The requested API version was not found.'</td></tr><tr><td>111</td><td>404 'Format \"XXX\" not found.'</td><td>'The requested response format was not found.'</td></tr><tr><td>112</td><td>404 'Method \"XXX\" not found.'</td><td>'The requested method was not found.'</td></tr><tr><td>115</td><td>404 'Missing required parameter'</td><td>'Parameters which are required have not been sent.'</td></tr><tr><td>120</td><td>404 'Parameter \"XXX\" has an invalid value.'</td><td>'The provided parameter value is not valid.'</td></tr><tr><td>140</td><td>400 'Endpoint “XXX” not found.’</td><td>'The requested endpoint was not found'</td></tr><tr><td>150</td><td>400 'Language with ISO2 code: \"XX\" is not yet supported in the API'</td><td>'Response requested in an unsupported language.'</td></tr><tr><td>160</td><td>400 ' Filtering data-set on an indicator value without indicating a date range is meaningless and is not allowed.'</td><td>'You need to indicate date-range if you want to filter by an indicator value.'</td></tr><tr><td>199</td><td>500 'Unexpected error'</td><td>'An unexpected error was encountered while processing the request.'</td></tr></tbody></table>"
   ]
  },
  {
   "cell_type": "markdown",
   "metadata": {
    "id": "t-SCm8xRo2ss"
   },
   "source": [
    "При успешном запросе обычно мы получаем желанный код 200."
   ]
  },
  {
   "cell_type": "markdown",
   "metadata": {
    "id": "snjwlW7uo2ss"
   },
   "source": [
    "### Доступ к списку показателей (индикаторов)"
   ]
  },
  {
   "cell_type": "markdown",
   "metadata": {
    "id": "EZgHh29bo2ss"
   },
   "source": [
    "Чтобы узнать какие показатели мы можем запросить, перейдем на [страницу](https://datahelpdesk.worldbank.org/knowledgebase/articles/898599-indicator-api-queries) с описанием соответствующего интерфейса.\n",
    "\n",
    "Чтобы получить данные обо всех индикаторах, мы должны запросить API по такому адресу:\n",
    "\n",
    "http://api.worldbank.org/v2/indicator\n",
    "\n",
    "Чтобы получить данные в формате JSON, надо добавить `?format=json`\n",
    "\n",
    "Скопируем в адресную строку браузера и посмотрим, что будет:\n",
    "\n",
    "http://api.worldbank.org/v2/indicator?format=json"
   ]
  },
  {
   "cell_type": "markdown",
   "metadata": {
    "id": "cJKov-olo2ss"
   },
   "source": [
    "Мы получили огромный массив какого-то текста. Посмотрим, как он будет выглядеть в виде таблиц. Документация обещает такие данные:\n",
    "\n",
    "* код\n",
    "* название\n",
    "* единицы измерения\n",
    "* ID источника\n",
    "* описание источника\n",
    "* название организации, предоставляющей данные\n",
    "* ID темы\n",
    "* название темы\n"
   ]
  },
  {
   "cell_type": "markdown",
   "metadata": {
    "id": "OQOcK-fto2ss"
   },
   "source": [
    "Часть `?format=json` — это параметры запроса. Вы можете их видеть в URL после символа `?`. Присмотритесь к ссылкам в своем браузере и, возможно, найдете там что-то интересное. \n",
    "\n",
    "`Requests` позволяет указывать параметры в виде словаря, а не приклеивать их к URL в виде текста. \n",
    "\n",
    "Для доступа к API снова воспользуемся функцией `get()` из  библиотеки `requests` и передадим ей два параметра:\n",
    "\n",
    "1. `url = http://api.worldbank.org/v2/indicator`\n",
    "2. `params = {'format':'json'}`\n",
    "\n",
    "___"
   ]
  },
  {
   "cell_type": "code",
   "execution_count": null,
   "metadata": {
    "id": "Lx2D63Txo2st",
    "scrolled": true
   },
   "outputs": [],
   "source": [
    "import requests\n",
    "import pandas as pd"
   ]
  },
  {
   "cell_type": "code",
   "execution_count": null,
   "metadata": {
    "id": "xaQllX4_o2st",
    "scrolled": true
   },
   "outputs": [],
   "source": [
    "INDICATORS_URL = \"http://api.worldbank.org/v2/indicator\""
   ]
  },
  {
   "cell_type": "code",
   "execution_count": null,
   "metadata": {
    "id": "b0XcUT9qo2st",
    "scrolled": true
   },
   "outputs": [],
   "source": [
    "indicators = requests.get(url=INDICATORS_URL # ссылка на API\n",
    "                          , params={'format':'json'} # параметры запроса\n",
    "                         )"
   ]
  },
  {
   "cell_type": "markdown",
   "metadata": {
    "id": "DtKLqQ-do2su"
   },
   "source": [
    "Выведем результат."
   ]
  },
  {
   "cell_type": "code",
   "execution_count": null,
   "metadata": {
    "id": "TjqGbzTgo2su",
    "scrolled": true
   },
   "outputs": [],
   "source": [
    "indicators"
   ]
  },
  {
   "cell_type": "markdown",
   "metadata": {
    "id": "zJrj1RJEo2su"
   },
   "source": [
    "Мы не видим огромного массива текста как в браузере. Вместо этого мы видим код ответа API. И к нашему удовлетворению он равен 200, что значит, запрос получен и успешно обработан. \n",
    "\n",
    "А содержимое ответа хранится в `indicators.content`"
   ]
  },
  {
   "cell_type": "code",
   "execution_count": null,
   "metadata": {
    "id": "KdJOmwTzo2su",
    "scrolled": true
   },
   "outputs": [],
   "source": [
    "indicators.content"
   ]
  },
  {
   "cell_type": "markdown",
   "metadata": {
    "id": "V-OuNgKlo2su"
   },
   "source": [
    "С помощью `библиотеки json` мы можем преобразовать данные в более привычный формат. Для этого импортируем библиотеку и вызовем оттуда метод  `.loads()`, который отдаст список с вложенными словарями."
   ]
  },
  {
   "cell_type": "code",
   "execution_count": null,
   "metadata": {
    "id": "Yg7_9d-oo2su",
    "scrolled": true
   },
   "outputs": [],
   "source": [
    "import json"
   ]
  },
  {
   "cell_type": "code",
   "execution_count": null,
   "metadata": {
    "id": "tppZFOVvo2su",
    "scrolled": true
   },
   "outputs": [],
   "source": [
    "indicators_data = json.loads(indicators.content)\n",
    "indicators_data"
   ]
  },
  {
   "cell_type": "markdown",
   "metadata": {
    "id": "3m6OW4Nio2sv"
   },
   "source": [
    "Мы получили одну страницу с 50 показателями. \n",
    "Документация обещает, что ответ будет в виде списка, где первый элемент описывает данные, а второй содержит их:\n",
    "    \n",
    "```json\n",
    "[{\n",
    "  \"page\": 1,\n",
    "  \"pages\": 1,\n",
    "  \"per_page\": \"50\",\n",
    "  \"total\": 1\n",
    "  },\n",
    "  [{\n",
    "    \"id\": \"NY.GDP.MKTP.CD\",\"name\":\n",
    "    \"GDP (current US$)\",\n",
    "    \"unit\": \"\",\n",
    "    \"source\": {\n",
    "      \"id\": \"2\",\n",
    "      \"value\": \"World Development Indicators\"},\n",
    "    \"sourceNote\": \"GDP at purchaser's prices ... \",\n",
    "    \"sourceOrganization\": \"World Bank national accounts data, and OECD National Accounts data files.\",\n",
    "    \"topics\": [\n",
    "      {\"id\": \"19\",\"value\": \"Climate Change\"},\n",
    "      {\"id\": \"3\",\"value\": \"Economy & Growth\"}\n",
    "    ]\n",
    "  }]\n",
    "]\n",
    "```\n",
    "    \n",
    "Проверим это и посмотрим, что у нас лежит в `indicators_data`"
   ]
  },
  {
   "cell_type": "code",
   "execution_count": null,
   "metadata": {
    "id": "UUg3cNMvo2sv",
    "scrolled": true
   },
   "outputs": [],
   "source": [
    "type(indicators_data) "
   ]
  },
  {
   "cell_type": "markdown",
   "metadata": {
    "id": "lhhn_qBRo2sv"
   },
   "source": [
    "Отлично, мы поняли, что внутри лежит список, давайте посмотрим его длину"
   ]
  },
  {
   "cell_type": "code",
   "execution_count": null,
   "metadata": {
    "id": "ZXvZ7-s5o2sv",
    "scrolled": true
   },
   "outputs": [],
   "source": [
    "len(indicators_data)"
   ]
  },
  {
   "cell_type": "markdown",
   "metadata": {
    "id": "fny4kP5Go2sv"
   },
   "source": [
    "В списке всего 2 элемента, посмотрим на них по очереди. "
   ]
  },
  {
   "cell_type": "code",
   "execution_count": null,
   "metadata": {
    "id": "d2Kb3bipo2sv",
    "scrolled": true
   },
   "outputs": [],
   "source": [
    "indicators_data[0] # в первом элементе списка — метаданные."
   ]
  },
  {
   "cell_type": "code",
   "execution_count": null,
   "metadata": {
    "id": "CKzg4-Ffo2sv",
    "scrolled": true
   },
   "outputs": [],
   "source": [
    "indicators_data[1] # во втором — сами данные, это страндартная практика."
   ]
  },
  {
   "cell_type": "code",
   "execution_count": null,
   "metadata": {
    "id": "q048i_PSo2sw",
    "scrolled": true
   },
   "outputs": [],
   "source": [
    "len(indicators_data[1])"
   ]
  },
  {
   "cell_type": "markdown",
   "metadata": {
    "id": "-xSlk7dBo2sw"
   },
   "source": [
    "В описании данных мы видим, что всего показателей 24604, попробуем получить все показатели."
   ]
  },
  {
   "cell_type": "code",
   "execution_count": null,
   "metadata": {
    "id": "NYjwS2Bzo2sw",
    "scrolled": true
   },
   "outputs": [],
   "source": [
    "indicators = requests.get(url=INDICATORS_URL # ссылка на API\n",
    "                          , params={'format':'json','per_page':24604} # параметры запроса\n",
    "                         )\n",
    "# вместо числа 20083 можно передать ссылку на это же значение, например вот так:  indicators_data[0]['total'] "
   ]
  },
  {
   "cell_type": "markdown",
   "metadata": {
    "id": "N3z00JTzo2sw"
   },
   "source": [
    "Всё получилось!"
   ]
  },
  {
   "cell_type": "code",
   "execution_count": null,
   "metadata": {
    "id": "-evUM3j1o2sw",
    "scrolled": true
   },
   "outputs": [],
   "source": [
    "indicators"
   ]
  },
  {
   "cell_type": "markdown",
   "metadata": {
    "id": "Rv2lrX-5o2sw"
   },
   "source": [
    "По правилам хорошего тона закрываем соединение с сервером методом `.close()`, и дальше будем работать с полученными данными"
   ]
  },
  {
   "cell_type": "code",
   "execution_count": null,
   "metadata": {
    "id": "sNJoqwAxo2sx",
    "scrolled": true
   },
   "outputs": [],
   "source": [
    "indicators.connection.close()"
   ]
  },
  {
   "cell_type": "markdown",
   "metadata": {
    "id": "3Ib25qJ9o2s1"
   },
   "source": [
    "Чтобы было удобнее изучать данные, можно записать их в DataFrame"
   ]
  },
  {
   "cell_type": "code",
   "execution_count": null,
   "metadata": {
    "id": "kTYWHayAo2s1",
    "scrolled": true
   },
   "outputs": [],
   "source": [
    "indicators_data = json.loads(indicators.content) # приводим к списку с вложенными словарями\n",
    "indicators_data[0] # первый элемент — словарь с описанием данных"
   ]
  },
  {
   "cell_type": "markdown",
   "metadata": {
    "id": "VXj9scQ2o2s1"
   },
   "source": [
    "Как и в прошлый раз, используем `pd.DataFrame`"
   ]
  },
  {
   "cell_type": "code",
   "execution_count": null,
   "metadata": {
    "id": "MHdVcOeqo2s1",
    "scrolled": true
   },
   "outputs": [],
   "source": [
    "indicators_df = pd.DataFrame(indicators_data[1]) # берем второй элемент — словарь с данными"
   ]
  },
  {
   "cell_type": "code",
   "execution_count": null,
   "metadata": {
    "id": "ZAMVm1DZo2s2",
    "scrolled": true
   },
   "outputs": [],
   "source": [
    "indicators_df.head()"
   ]
  },
  {
   "cell_type": "code",
   "execution_count": null,
   "metadata": {
    "id": "zXNBJxcuo2s2",
    "scrolled": true
   },
   "outputs": [],
   "source": [
    "indicators_df.info()"
   ]
  },
  {
   "cell_type": "markdown",
   "metadata": {
    "id": "lF9aPS-1o2s2"
   },
   "source": [
    "### Задача 2 \n",
    "\n",
    "Посмотрим динамику ВВП по странам и группам стран\n"
   ]
  },
  {
   "cell_type": "markdown",
   "metadata": {
    "id": "NC4I_Wdao2s2"
   },
   "source": [
    "Мы выгрузили все показатели, которые нам отдал World Bank, а нам нужны только ВВП стран за определенный период.\n",
    "\n",
    "Нужно передать в запрос идентификатор показателя, который мы хотим. Идентификатор ВВП (GDP) `\"NY.GDP.MKTP.KD.ZG\"`\n",
    "\n",
    "Его можно подсмотреть, изучив документацию, исследовав данные или просто загуглив :)"
   ]
  },
  {
   "cell_type": "markdown",
   "metadata": {
    "id": "_SuT8sAvo2s2"
   },
   "source": [
    "### Доступ к данным"
   ]
  },
  {
   "cell_type": "markdown",
   "metadata": {
    "id": "S80OpZoSo2s2"
   },
   "source": [
    "Идем на страницу с описанием типичного способа обращения к API [**API Basic Call Structures**](https://datahelpdesk.worldbank.org/knowledgebase/articles/898581-api-basic-call-structures)"
   ]
  },
  {
   "cell_type": "markdown",
   "metadata": {
    "id": "asSjdImto2s2"
   },
   "source": [
    "Пример показывает, как получить данные за период времени:\n",
    "\n",
    "http://api.worldbank.org/v2/country/all/indicator/SP.POP.TOTL?date=2000:2001\n",
    "\n",
    "1. Сначала указываем показатель в URL\n",
    "2. Потом в качестве параметра передаем период"
   ]
  },
  {
   "cell_type": "code",
   "execution_count": null,
   "metadata": {
    "id": "VfHF8XXKo2s2",
    "scrolled": true
   },
   "outputs": [],
   "source": [
    "URL_DATA = \"http://api.worldbank.org/v2/country/all/indicator/NY.GDP.MKTP.KD.ZG\"\n",
    "\n",
    "params={'format':'json',\n",
    "        'date':'2000:2025'}"
   ]
  },
  {
   "cell_type": "code",
   "execution_count": null,
   "metadata": {
    "id": "KWDsnFsbo2s3",
    "scrolled": true
   },
   "outputs": [],
   "source": [
    "gdp_growth = requests.get(url=URL_DATA, # строка с запросом к API\n",
    "                          params=params # параметры запроса\n",
    "                         )"
   ]
  },
  {
   "cell_type": "markdown",
   "metadata": {
    "id": "kZJrhtgmo2s3"
   },
   "source": [
    "Посмотрим на ответ:"
   ]
  },
  {
   "cell_type": "code",
   "execution_count": null,
   "metadata": {
    "id": "iyvFv9GJo2s3",
    "scrolled": true
   },
   "outputs": [],
   "source": [
    "gdp_growth"
   ]
  },
  {
   "cell_type": "code",
   "execution_count": null,
   "metadata": {
    "id": "2aea8lX_o2s3",
    "scrolled": true
   },
   "outputs": [],
   "source": [
    "gdp_growth.connection.close() # закроем коннект\n",
    "gdp_growth_data = json.loads(gdp_growth.content) # распарсим содержимое ответа\n",
    "gdp_growth_data[0]"
   ]
  },
  {
   "cell_type": "code",
   "execution_count": null,
   "metadata": {
    "id": "Nu0OE9lDo2s3",
    "scrolled": true
   },
   "outputs": [],
   "source": [
    "len(gdp_growth_data[1])"
   ]
  },
  {
   "cell_type": "markdown",
   "metadata": {
    "id": "Xbk1GSRyo2s3"
   },
   "source": [
    "Снова у нас только 1 страница, с 50 записями или строками. Давайте вытащим все записи."
   ]
  },
  {
   "cell_type": "code",
   "execution_count": null,
   "metadata": {
    "id": "bzlYrSNGo2s4",
    "scrolled": true
   },
   "outputs": [],
   "source": [
    "gdp_growth = requests.get(url=URL_DATA # ссылка на API\n",
    "                          , params={'format':'json',\n",
    "                                    'date':'2000:2025',\n",
    "                                    'per_page':gdp_growth_data[0]['total']\n",
    "                                   } # параметры запроса\n",
    "                         )"
   ]
  },
  {
   "cell_type": "code",
   "execution_count": null,
   "metadata": {
    "id": "0CVYzCIWo2s4",
    "scrolled": true
   },
   "outputs": [],
   "source": [
    "gdp_growth.connection.close()"
   ]
  },
  {
   "cell_type": "markdown",
   "metadata": {
    "id": "Jwa2zLllo2s4"
   },
   "source": [
    "Что мы получили на этот раз?"
   ]
  },
  {
   "cell_type": "code",
   "execution_count": null,
   "metadata": {
    "id": "nEJoz3s3o2s4"
   },
   "outputs": [],
   "source": [
    "### gdp_growth_data = json.loads(gdp_growth.content)\n",
    "gdp_growth_data[0]"
   ]
  },
  {
   "cell_type": "markdown",
   "metadata": {
    "id": "Apsyisd0o2s4"
   },
   "source": [
    "Все данные на месте, запишем их в DataFrame"
   ]
  },
  {
   "cell_type": "code",
   "execution_count": null,
   "metadata": {
    "id": "wqsV6k-So2s4",
    "scrolled": true
   },
   "outputs": [],
   "source": [
    "gdp_growth_df = pd.DataFrame(gdp_growth_data[1])"
   ]
  },
  {
   "cell_type": "code",
   "execution_count": null,
   "metadata": {
    "id": "aDJBoE2_o2s4",
    "scrolled": true
   },
   "outputs": [],
   "source": [
    "gdp_growth_df.head()"
   ]
  },
  {
   "cell_type": "markdown",
   "metadata": {
    "id": "JOUBylu0o2s4"
   },
   "source": [
    "Давайте немного почистим полученные данные и отрисуем динамику изменения ВВП по экономическим макрорегионам.\n",
    "\n",
    "1. В колонке `country` лежит словарь, в котором название страны можно получить по ключу `value` . Напишем функцию, которая принимает на вход словарь и возвращает значение по ключу `value`\n",
    "2. После создадим колонку `country_name`, в которую запишем результат выполнения этой функции над колонкой `country`"
   ]
  },
  {
   "cell_type": "code",
   "execution_count": null,
   "metadata": {
    "id": "vMn7NxHNo2s4",
    "scrolled": true
   },
   "outputs": [],
   "source": [
    "def get_country_name(x):\n",
    "    return x['value']\n",
    "\n",
    "gdp_growth_df['country_name'] = gdp_growth_df['country'].apply(get_country_name)"
   ]
  },
  {
   "cell_type": "markdown",
   "metadata": {
    "id": "JaiNI6Zoo2s5"
   },
   "source": [
    "Когда мы работаем с очень простыми функциями, можно не определять их, а использовать `lambda функции`. \n",
    "\n",
    "<img style='float:left' src=\"https://res.cloudinary.com/djcwxgbfz/image/upload/v1610963213/skills/Shpargalka_8.png\" width=\"700\"/> "
   ]
  },
  {
   "cell_type": "code",
   "execution_count": null,
   "metadata": {
    "id": "LVLOMMEao2s5",
    "scrolled": true
   },
   "outputs": [],
   "source": [
    "gdp_growth_df['country_name'] = gdp_growth_df['country'].apply(lambda x: x['value']) "
   ]
  },
  {
   "cell_type": "markdown",
   "metadata": {
    "id": "HQtsCGE9o2s5"
   },
   "source": [
    "Найдем `значения по годам и странам`, для этого создадим сводную таблицу с помощью метода `.pivot()`"
   ]
  },
  {
   "cell_type": "code",
   "execution_count": null,
   "metadata": {
    "id": "PY6dGbHAo2s5",
    "scrolled": true
   },
   "outputs": [],
   "source": [
    "grp_growth_by_country = gdp_growth_df.pivot(index='date', columns='country_name', values='value')\n",
    "grp_growth_by_country"
   ]
  },
  {
   "cell_type": "markdown",
   "metadata": {
    "id": "IvQs3HEuo2s5"
   },
   "source": [
    "Посмотрим, для каких стран и объединений у нас есть данные"
   ]
  },
  {
   "cell_type": "code",
   "execution_count": null,
   "metadata": {
    "id": "KQlmA6Iwo2s5",
    "scrolled": true
   },
   "outputs": [],
   "source": [
    "grp_growth_by_country.columns.tolist()"
   ]
  },
  {
   "cell_type": "markdown",
   "metadata": {
    "id": "2RjjqOido2s5"
   },
   "source": [
    "Рассмотрим рост ВВП для групп стран по признаку географии (как [здесь](https://datatopics.worldbank.org/world-development-indicators/the-world-by-income-and-region.html))\n",
    "\n",
    "1. импортируем библиотеки для визуализации\n",
    "2. создадим словарь с нужными группами стран\n",
    "3. построим линейный график"
   ]
  },
  {
   "cell_type": "code",
   "execution_count": null,
   "metadata": {
    "id": "FMhFTxEVo2s5",
    "scrolled": true
   },
   "outputs": [],
   "source": [
    "from matplotlib import pyplot as plt\n",
    "import seaborn as sns"
   ]
  },
  {
   "cell_type": "code",
   "execution_count": null,
   "metadata": {
    "id": "Xc2BMisho2s5",
    "scrolled": true
   },
   "outputs": [],
   "source": [
    "country_group = ['North America'\n",
    "                , 'South Asia'\n",
    "                , 'Middle East & North Africa'\n",
    "                , 'Europe & Central Asia'\n",
    "                , 'Latin America & Caribbean'\n",
    "                , 'East Asia & Pacific']"
   ]
  },
  {
   "cell_type": "code",
   "execution_count": null,
   "metadata": {
    "id": "KE0H49dCo2s6",
    "scrolled": true
   },
   "outputs": [],
   "source": [
    "plt.figure(figsize=(15,7))\n",
    "sns.lineplot(data=grp_growth_by_country[country_group], linewidth=3)\n",
    "plt.xlabel(\"Год\")\n",
    "plt.ylabel(\"Прирост ВВП год к году, %\");"
   ]
  },
  {
   "cell_type": "markdown",
   "metadata": {
    "id": "Y_AA6CSwo2s6"
   },
   "source": [
    " <center><img src=\"https://cdn.skyeng.ru/resources/image/skills/python/lesson1-1/3.png\" /> "
   ]
  }
 ],
 "metadata": {
  "colab": {
   "name": "Skills_Python_5.2_lesson.ipynb",
   "provenance": []
  },
  "kernelspec": {
   "display_name": "Python 3 (ipykernel)",
   "language": "python",
   "name": "python3"
  },
  "language_info": {
   "codemirror_mode": {
    "name": "ipython",
    "version": 3
   },
   "file_extension": ".py",
   "mimetype": "text/x-python",
   "name": "python",
   "nbconvert_exporter": "python",
   "pygments_lexer": "ipython3",
   "version": "3.10.9"
  }
 },
 "nbformat": 4,
 "nbformat_minor": 1
}
